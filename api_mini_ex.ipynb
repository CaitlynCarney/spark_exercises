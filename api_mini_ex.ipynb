{
 "cells": [
  {
   "cell_type": "code",
   "execution_count": 1,
   "metadata": {},
   "outputs": [],
   "source": [
    "import pyspark\n",
    "\n",
    "spark = pyspark.sql.SparkSession.builder.getOrCreate()\n",
    "\n",
    "import pandas as pd\n",
    "import numpy as np"
   ]
  },
  {
   "cell_type": "markdown",
   "metadata": {},
   "source": [
    "# 1. Spark Dataframe Basics"
   ]
  },
  {
   "cell_type": "markdown",
   "metadata": {},
   "source": [
    "- Use the starter code above to create a pandas dataframe."
   ]
  },
  {
   "cell_type": "code",
   "execution_count": 2,
   "metadata": {},
   "outputs": [],
   "source": [
    "pandas_dataframe = pd.DataFrame({\n",
    "    \"n\": np.random.randn(20),\n",
    "    \"group\": np.random.choice(list(\"xyz\"), 20),\n",
    "    \"abool\": np.random.choice([True, False], 20),\n",
    "})"
   ]
  },
  {
   "cell_type": "markdown",
   "metadata": {},
   "source": [
    "- Convert the pandas dataframe to a spark dataframe. From this pointforward, do all of your work with the spark dataframe, not the pandas dataframe.\n"
   ]
  },
  {
   "cell_type": "code",
   "execution_count": 3,
   "metadata": {},
   "outputs": [
    {
     "data": {
      "text/plain": [
       "DataFrame[n: double, group: string, abool: boolean]"
      ]
     },
     "execution_count": 3,
     "metadata": {},
     "output_type": "execute_result"
    }
   ],
   "source": [
    "df = spark.createDataFrame(pandas_dataframe)\n",
    "df"
   ]
  },
  {
   "cell_type": "markdown",
   "metadata": {},
   "source": [
    "- Show the first 3 rows of the dataframe.\n"
   ]
  },
  {
   "cell_type": "code",
   "execution_count": 4,
   "metadata": {},
   "outputs": [
    {
     "name": "stdout",
     "output_type": "stream",
     "text": [
      "+-------------------+-----+-----+\n",
      "|                  n|group|abool|\n",
      "+-------------------+-----+-----+\n",
      "| 1.1499623128303655|    z| true|\n",
      "|-0.0927155526559836|    x| true|\n",
      "|  0.399785412647996|    z| true|\n",
      "+-------------------+-----+-----+\n",
      "only showing top 3 rows\n",
      "\n"
     ]
    }
   ],
   "source": [
    "df.show(3)"
   ]
  },
  {
   "cell_type": "markdown",
   "metadata": {},
   "source": [
    "- Show the first 7 rows of the dataframe.\n"
   ]
  },
  {
   "cell_type": "code",
   "execution_count": 5,
   "metadata": {},
   "outputs": [
    {
     "name": "stdout",
     "output_type": "stream",
     "text": [
      "+--------------------+-----+-----+\n",
      "|                   n|group|abool|\n",
      "+--------------------+-----+-----+\n",
      "|  1.1499623128303655|    z| true|\n",
      "| -0.0927155526559836|    x| true|\n",
      "|   0.399785412647996|    z| true|\n",
      "|  0.8882019733433619|    z|false|\n",
      "|  -1.169069067649961|    z|false|\n",
      "|  0.8459734375126867|    x|false|\n",
      "|-0.26405863529794266|    x| true|\n",
      "+--------------------+-----+-----+\n",
      "only showing top 7 rows\n",
      "\n"
     ]
    }
   ],
   "source": [
    "df.show(7)"
   ]
  },
  {
   "cell_type": "markdown",
   "metadata": {},
   "source": [
    "- View a summary of the data using `.describe`.\n"
   ]
  },
  {
   "cell_type": "code",
   "execution_count": 6,
   "metadata": {},
   "outputs": [
    {
     "name": "stdout",
     "output_type": "stream",
     "text": [
      "+-------+-------------------+-----+\n",
      "|summary|                  n|group|\n",
      "+-------+-------------------+-----+\n",
      "|  count|                 20|   20|\n",
      "|   mean|0.20397131332666066| null|\n",
      "| stddev| 0.9310820455646811| null|\n",
      "|    min|-1.8972435812262745|    x|\n",
      "|    max| 2.3637562686807967|    z|\n",
      "+-------+-------------------+-----+\n",
      "\n"
     ]
    }
   ],
   "source": [
    "df.describe().show()"
   ]
  },
  {
   "cell_type": "markdown",
   "metadata": {},
   "source": [
    "- Use `.select` to create a new dataframe with just the `n` and `abool` columns. View the first 5 rows of this dataframe.\n"
   ]
  },
  {
   "cell_type": "code",
   "execution_count": 7,
   "metadata": {},
   "outputs": [
    {
     "name": "stdout",
     "output_type": "stream",
     "text": [
      "+--------------------+-----+\n",
      "|                   n|abool|\n",
      "+--------------------+-----+\n",
      "|  1.1499623128303655| true|\n",
      "| -0.0927155526559836| true|\n",
      "|   0.399785412647996| true|\n",
      "|  0.8882019733433619|false|\n",
      "|  -1.169069067649961|false|\n",
      "|  0.8459734375126867|false|\n",
      "|-0.26405863529794266| true|\n",
      "|   1.015775022143998|false|\n",
      "|-0.45237042146743756|false|\n",
      "| 0.19026375388090394|false|\n",
      "|  0.4930684447601118| true|\n",
      "| -0.6561199024691382|false|\n",
      "|  2.3637562686807967| true|\n",
      "|  0.5159689364229127| true|\n",
      "|-0.01549872937432...|false|\n",
      "| -1.8972435812262745|false|\n",
      "|  0.7061194117092414|false|\n",
      "| 0.25219007240610014| true|\n",
      "| -0.7646889916564636| true|\n",
      "|  0.5701261019922602|false|\n",
      "+--------------------+-----+\n",
      "\n"
     ]
    }
   ],
   "source": [
    "df.select('n', 'abool').show()"
   ]
  },
  {
   "cell_type": "markdown",
   "metadata": {},
   "source": [
    "- Use `.select` to create a new dataframe with just the `group` and `abool`columns. View the first 5 rows of this dataframe.\n"
   ]
  },
  {
   "cell_type": "code",
   "execution_count": 8,
   "metadata": {},
   "outputs": [
    {
     "name": "stdout",
     "output_type": "stream",
     "text": [
      "+-----+-----+\n",
      "|group|abool|\n",
      "+-----+-----+\n",
      "|    z| true|\n",
      "|    x| true|\n",
      "|    z| true|\n",
      "|    z|false|\n",
      "|    z|false|\n",
      "|    x|false|\n",
      "|    x| true|\n",
      "|    y|false|\n",
      "|    z|false|\n",
      "|    y|false|\n",
      "|    x| true|\n",
      "|    z|false|\n",
      "|    x| true|\n",
      "|    y| true|\n",
      "|    z|false|\n",
      "|    y|false|\n",
      "|    z|false|\n",
      "|    y| true|\n",
      "|    x| true|\n",
      "|    z|false|\n",
      "+-----+-----+\n",
      "\n"
     ]
    }
   ],
   "source": [
    "df.select('group', 'abool').show()"
   ]
  },
  {
   "cell_type": "markdown",
   "metadata": {},
   "source": [
    "- Use `.select` to create a new dataframe with the `group` `abool` column renamed to `a_boolean_value`. Show the first 3 rows ofthis dataframe."
   ]
  },
  {
   "cell_type": "code",
   "execution_count": 9,
   "metadata": {},
   "outputs": [
    {
     "name": "stdout",
     "output_type": "stream",
     "text": [
      "+-----+---------------+\n",
      "|group|a_boolean_value|\n",
      "+-----+---------------+\n",
      "|    z|           true|\n",
      "|    x|           true|\n",
      "|    z|           true|\n",
      "+-----+---------------+\n",
      "only showing top 3 rows\n",
      "\n"
     ]
    }
   ],
   "source": [
    "df.select(df.group, df.abool.alias('a_boolean_value')).show(3)"
   ]
  },
  {
   "cell_type": "markdown",
   "metadata": {},
   "source": [
    "- Use `.select` to create a new dataframe with the `group` column and the `n` column renamed to `a_numeric_value`. Show the first 6 rows of this dataframe."
   ]
  },
  {
   "cell_type": "code",
   "execution_count": 10,
   "metadata": {},
   "outputs": [
    {
     "name": "stdout",
     "output_type": "stream",
     "text": [
      "+-----+-------------------+\n",
      "|group|    a_numeric_value|\n",
      "+-----+-------------------+\n",
      "|    z| 1.1499623128303655|\n",
      "|    x|-0.0927155526559836|\n",
      "|    z|  0.399785412647996|\n",
      "|    z| 0.8882019733433619|\n",
      "|    z| -1.169069067649961|\n",
      "|    x| 0.8459734375126867|\n",
      "+-----+-------------------+\n",
      "only showing top 6 rows\n",
      "\n"
     ]
    }
   ],
   "source": [
    "df.select(df.group, df.n.alias('a_numeric_value')).show(6)"
   ]
  },
  {
   "cell_type": "markdown",
   "metadata": {},
   "source": [
    "# 2. Column Manipulation"
   ]
  },
  {
   "cell_type": "markdown",
   "metadata": {},
   "source": [
    "- Use the starter code above to re-create a spark dataframe. Store the\n",
    "       spark dataframe in a varaible named `df`\n",
    "\n"
   ]
  },
  {
   "cell_type": "code",
   "execution_count": 11,
   "metadata": {},
   "outputs": [
    {
     "data": {
      "text/plain": [
       "DataFrame[n: double, group: string, abool: boolean]"
      ]
     },
     "execution_count": 11,
     "metadata": {},
     "output_type": "execute_result"
    }
   ],
   "source": [
    "# Convert to spark df\n",
    "df = spark.createDataFrame(pandas_dataframe)\n",
    "df"
   ]
  },
  {
   "cell_type": "markdown",
   "metadata": {},
   "source": [
    "- Use `.select` to add 4 to the `n` column. Show the results.\n"
   ]
  },
  {
   "cell_type": "code",
   "execution_count": 12,
   "metadata": {},
   "outputs": [
    {
     "name": "stdout",
     "output_type": "stream",
     "text": [
      "+------------------+\n",
      "|           (n + 4)|\n",
      "+------------------+\n",
      "|5.1499623128303655|\n",
      "|3.9072844473440163|\n",
      "| 4.399785412647996|\n",
      "| 4.888201973343362|\n",
      "| 2.830930932350039|\n",
      "| 4.845973437512686|\n",
      "|3.7359413647020574|\n",
      "| 5.015775022143998|\n",
      "|3.5476295785325624|\n",
      "| 4.190263753880904|\n",
      "|4.4930684447601115|\n",
      "| 3.343880097530862|\n",
      "| 6.363756268680797|\n",
      "|4.5159689364229125|\n",
      "| 3.984501270625679|\n",
      "|2.1027564187737253|\n",
      "| 4.706119411709241|\n",
      "|   4.2521900724061|\n",
      "|3.2353110083435364|\n",
      "|  4.57012610199226|\n",
      "+------------------+\n",
      "\n"
     ]
    }
   ],
   "source": [
    "df.select(df.n + 4).show()"
   ]
  },
  {
   "cell_type": "markdown",
   "metadata": {},
   "source": [
    "- Subtract 5 from the `n` column and view the results.\n"
   ]
  },
  {
   "cell_type": "code",
   "execution_count": 13,
   "metadata": {},
   "outputs": [
    {
     "name": "stdout",
     "output_type": "stream",
     "text": [
      "+-------------------+\n",
      "|            (n - 5)|\n",
      "+-------------------+\n",
      "|-3.8500376871696345|\n",
      "| -5.092715552655983|\n",
      "| -4.600214587352004|\n",
      "| -4.111798026656638|\n",
      "| -6.169069067649961|\n",
      "| -4.154026562487314|\n",
      "| -5.264058635297943|\n",
      "|-3.9842249778560017|\n",
      "| -5.452370421467437|\n",
      "| -4.809736246119096|\n",
      "|-4.5069315552398885|\n",
      "| -5.656119902469138|\n",
      "|-2.6362437313192033|\n",
      "|-4.4840310635770875|\n",
      "| -5.015498729374321|\n",
      "| -6.897243581226275|\n",
      "| -4.293880588290759|\n",
      "|   -4.7478099275939|\n",
      "| -5.764688991656463|\n",
      "|  -4.42987389800774|\n",
      "+-------------------+\n",
      "\n"
     ]
    }
   ],
   "source": [
    "df.select(df.n - 5).show()"
   ]
  },
  {
   "cell_type": "markdown",
   "metadata": {},
   "source": [
    "- Multiply the `n` column by 2. View the results along with the original numbers.\n"
   ]
  },
  {
   "cell_type": "code",
   "execution_count": 14,
   "metadata": {},
   "outputs": [
    {
     "name": "stdout",
     "output_type": "stream",
     "text": [
      "+--------------------+\n",
      "|             (n * 2)|\n",
      "+--------------------+\n",
      "|   2.299924625660731|\n",
      "| -0.1854311053119672|\n",
      "|   0.799570825295992|\n",
      "|  1.7764039466867239|\n",
      "|  -2.338138135299922|\n",
      "|  1.6919468750253734|\n",
      "| -0.5281172705958853|\n",
      "|   2.031550044287996|\n",
      "| -0.9047408429348751|\n",
      "|  0.3805275077618079|\n",
      "|  0.9861368895202236|\n",
      "| -1.3122398049382764|\n",
      "|   4.727512537361593|\n",
      "|  1.0319378728458255|\n",
      "|-0.03099745874864...|\n",
      "|  -3.794487162452549|\n",
      "|  1.4122388234184828|\n",
      "|  0.5043801448122003|\n",
      "| -1.5293779833129273|\n",
      "|  1.1402522039845204|\n",
      "+--------------------+\n",
      "\n"
     ]
    }
   ],
   "source": [
    "df.select(df.n * 2).show()"
   ]
  },
  {
   "cell_type": "markdown",
   "metadata": {},
   "source": [
    "- Add a new column named `n2` that is the `n` value multiplied by -1. Show the first 4 rows of your dataframe. You should see the original `n` value as well as `n2`.\n"
   ]
  },
  {
   "cell_type": "code",
   "execution_count": 15,
   "metadata": {},
   "outputs": [
    {
     "name": "stdout",
     "output_type": "stream",
     "text": [
      "+--------------------+-----+-----+--------------------+\n",
      "|                   n|group|abool|                  n2|\n",
      "+--------------------+-----+-----+--------------------+\n",
      "|  1.1499623128303655|    z| true| -1.1499623128303655|\n",
      "| -0.0927155526559836|    x| true|  0.0927155526559836|\n",
      "|   0.399785412647996|    z| true|  -0.399785412647996|\n",
      "|  0.8882019733433619|    z|false| -0.8882019733433619|\n",
      "|  -1.169069067649961|    z|false|   1.169069067649961|\n",
      "|  0.8459734375126867|    x|false| -0.8459734375126867|\n",
      "|-0.26405863529794266|    x| true| 0.26405863529794266|\n",
      "|   1.015775022143998|    y|false|  -1.015775022143998|\n",
      "|-0.45237042146743756|    z|false| 0.45237042146743756|\n",
      "| 0.19026375388090394|    y|false|-0.19026375388090394|\n",
      "|  0.4930684447601118|    x| true| -0.4930684447601118|\n",
      "| -0.6561199024691382|    z|false|  0.6561199024691382|\n",
      "|  2.3637562686807967|    x| true| -2.3637562686807967|\n",
      "|  0.5159689364229127|    y| true| -0.5159689364229127|\n",
      "|-0.01549872937432...|    z|false|0.015498729374320846|\n",
      "| -1.8972435812262745|    y|false|  1.8972435812262745|\n",
      "|  0.7061194117092414|    z|false| -0.7061194117092414|\n",
      "| 0.25219007240610014|    y| true|-0.25219007240610014|\n",
      "| -0.7646889916564636|    x| true|  0.7646889916564636|\n",
      "|  0.5701261019922602|    z|false| -0.5701261019922602|\n",
      "+--------------------+-----+-----+--------------------+\n",
      "\n"
     ]
    }
   ],
   "source": [
    "n2 = (df.n * -1).alias('n2')\n",
    "df = df.select('*', n2)\n",
    "df.show()"
   ]
  },
  {
   "cell_type": "markdown",
   "metadata": {},
   "source": [
    "- Add a new column named `n3` that is the n value squared. Show the first 5 rows of your dataframe. You should see both `n`, `n2`, and `n3`.\n"
   ]
  },
  {
   "cell_type": "code",
   "execution_count": 16,
   "metadata": {},
   "outputs": [
    {
     "name": "stdout",
     "output_type": "stream",
     "text": [
      "+--------------------+-----+-----+--------------------+--------------------+\n",
      "|                   n|group|abool|                  n2|                  n3|\n",
      "+--------------------+-----+-----+--------------------+--------------------+\n",
      "|  1.1499623128303655|    z| true| -1.1499623128303655|  1.3224133209301634|\n",
      "| -0.0927155526559836|    x| true|  0.0927155526559836|0.008596173704304466|\n",
      "|   0.399785412647996|    z| true|  -0.399785412647996| 0.15982837616612844|\n",
      "|  0.8882019733433619|    z|false| -0.8882019733433619|  0.7889027454510422|\n",
      "|  -1.169069067649961|    z|false|   1.169069067649961|  1.3667224849359494|\n",
      "|  0.8459734375126867|    x|false| -0.8459734375126867|  0.7156710569770317|\n",
      "|-0.26405863529794266|    x| true| 0.26405863529794266| 0.06972696287541189|\n",
      "|   1.015775022143998|    y|false|  -1.015775022143998|  1.0317988956116397|\n",
      "|-0.45237042146743756|    z|false| 0.45237042146743756| 0.20463899821862708|\n",
      "| 0.19026375388090394|    y|false|-0.19026375388090394| 0.03620029604085319|\n",
      "|  0.4930684447601118|    x| true| -0.4930684447601118| 0.24311649121815543|\n",
      "| -0.6561199024691382|    z|false|  0.6561199024691382| 0.43049332641611143|\n",
      "|  2.3637562686807967|    x| true| -2.3637562686807967|   5.587343697727762|\n",
      "|  0.5159689364229127|    y| true| -0.5159689364229127|  0.2662239433533918|\n",
      "|-0.01549872937432...|    z|false|0.015498729374320846|2.402106122184358...|\n",
      "| -1.8972435812262745|    y|false|  1.8972435812262745|   3.599533206504299|\n",
      "|  0.7061194117092414|    z|false| -0.7061194117092414|  0.4986046235926052|\n",
      "| 0.25219007240610014|    y| true|-0.25219007240610014| 0.06359983262019403|\n",
      "| -0.7646889916564636|    x| true|  0.7646889916564636|  0.5847492539605791|\n",
      "|  0.5701261019922602|    z|false| -0.5701261019922602|  0.3250437721728891|\n",
      "+--------------------+-----+-----+--------------------+--------------------+\n",
      "\n"
     ]
    }
   ],
   "source": [
    "n3 = (df.n ** 2).alias('n3')\n",
    "df = df.select('*', n3)\n",
    "df.show()"
   ]
  },
  {
   "cell_type": "markdown",
   "metadata": {},
   "source": [
    "- What happens when you run the code below?\n",
    "        ```python\n",
    "        df.group + df.abool\n",
    "        ```\n"
   ]
  },
  {
   "cell_type": "code",
   "execution_count": 17,
   "metadata": {},
   "outputs": [
    {
     "data": {
      "text/plain": [
       "Column<'(group + abool)'>"
      ]
     },
     "execution_count": 17,
     "metadata": {},
     "output_type": "execute_result"
    }
   ],
   "source": [
    "df.group + df.abool"
   ]
  },
  {
   "cell_type": "markdown",
   "metadata": {},
   "source": [
    "- What happens when you run the code below? What is the difference between this and the previous code sample?\n",
    "        ```python\n",
    "        df.select(df.group + df.abool)\n",
    "        ```\n"
   ]
  },
  {
   "cell_type": "code",
   "execution_count": 19,
   "metadata": {},
   "outputs": [],
   "source": [
    "#df.select(df.group + df.abool)"
   ]
  },
  {
   "cell_type": "markdown",
   "metadata": {},
   "source": [
    "- Try adding various other columns together. What are the results of combining the different data types?"
   ]
  },
  {
   "cell_type": "code",
   "execution_count": null,
   "metadata": {},
   "outputs": [],
   "source": []
  },
  {
   "cell_type": "markdown",
   "metadata": {},
   "source": [
    "# Type casting\n",
    "\n"
   ]
  },
  {
   "cell_type": "markdown",
   "metadata": {},
   "source": [
    "- Use the starter code above to re-create a spark dataframe."
   ]
  },
  {
   "cell_type": "code",
   "execution_count": 20,
   "metadata": {},
   "outputs": [
    {
     "data": {
      "text/plain": [
       "DataFrame[n: double, group: string, abool: boolean]"
      ]
     },
     "execution_count": 20,
     "metadata": {},
     "output_type": "execute_result"
    }
   ],
   "source": [
    "# Convert to spark df\n",
    "df = spark.createDataFrame(pandas_dataframe)\n",
    "df"
   ]
  },
  {
   "cell_type": "markdown",
   "metadata": {},
   "source": [
    "- Use .printSchema to view the datatypes in your dataframe."
   ]
  },
  {
   "cell_type": "code",
   "execution_count": 23,
   "metadata": {},
   "outputs": [
    {
     "data": {
      "text/plain": [
       "<bound method DataFrame.printSchema of DataFrame[n: double, group: string, abool: boolean]>"
      ]
     },
     "execution_count": 23,
     "metadata": {},
     "output_type": "execute_result"
    }
   ],
   "source": [
    "df.printSchema"
   ]
  },
  {
   "cell_type": "markdown",
   "metadata": {},
   "source": [
    "- Use .dtypes to view the datatypes in your dataframe."
   ]
  },
  {
   "cell_type": "code",
   "execution_count": 24,
   "metadata": {},
   "outputs": [
    {
     "data": {
      "text/plain": [
       "[('n', 'double'), ('group', 'string'), ('abool', 'boolean')]"
      ]
     },
     "execution_count": 24,
     "metadata": {},
     "output_type": "execute_result"
    }
   ],
   "source": [
    "df.dtypes"
   ]
  },
  {
   "cell_type": "markdown",
   "metadata": {},
   "source": [
    "- What is the difference between the two code samples below?\n",
    "    `df.abool.cast('int')`\n",
    "    `df.select(df.abool.cast('int')).show()`"
   ]
  },
  {
   "cell_type": "code",
   "execution_count": 25,
   "metadata": {},
   "outputs": [
    {
     "data": {
      "text/plain": [
       "Column<'CAST(abool AS INT)'>"
      ]
     },
     "execution_count": 25,
     "metadata": {},
     "output_type": "execute_result"
    }
   ],
   "source": [
    "# here it is being lazy\n",
    "df.abool.cast('int')"
   ]
  },
  {
   "cell_type": "code",
   "execution_count": 26,
   "metadata": {},
   "outputs": [
    {
     "name": "stdout",
     "output_type": "stream",
     "text": [
      "+-----+\n",
      "|abool|\n",
      "+-----+\n",
      "|    1|\n",
      "|    1|\n",
      "|    1|\n",
      "|    0|\n",
      "|    0|\n",
      "|    0|\n",
      "|    1|\n",
      "|    0|\n",
      "|    0|\n",
      "|    0|\n",
      "|    1|\n",
      "|    0|\n",
      "|    1|\n",
      "|    1|\n",
      "|    0|\n",
      "|    0|\n",
      "|    0|\n",
      "|    1|\n",
      "|    1|\n",
      "|    0|\n",
      "+-----+\n",
      "\n"
     ]
    }
   ],
   "source": [
    "# here it is being forced to tell us\n",
    "df.select(df.abool.cast('int')).show()"
   ]
  },
  {
   "cell_type": "markdown",
   "metadata": {},
   "source": [
    "- Use .select and .cast to convert the abool column to an integer type. View the results."
   ]
  },
  {
   "cell_type": "code",
   "execution_count": 27,
   "metadata": {},
   "outputs": [
    {
     "name": "stdout",
     "output_type": "stream",
     "text": [
      "+-----+\n",
      "|abool|\n",
      "+-----+\n",
      "|    1|\n",
      "|    1|\n",
      "|    1|\n",
      "|    0|\n",
      "|    0|\n",
      "+-----+\n",
      "only showing top 5 rows\n",
      "\n"
     ]
    }
   ],
   "source": [
    "df.select(df.abool.cast('int')).show(5)"
   ]
  },
  {
   "cell_type": "markdown",
   "metadata": {},
   "source": [
    "- Convert the group column to a integer data type and view the results. What happens?"
   ]
  },
  {
   "cell_type": "code",
   "execution_count": 28,
   "metadata": {},
   "outputs": [
    {
     "name": "stdout",
     "output_type": "stream",
     "text": [
      "+-----+\n",
      "|group|\n",
      "+-----+\n",
      "| null|\n",
      "| null|\n",
      "| null|\n",
      "| null|\n",
      "| null|\n",
      "+-----+\n",
      "only showing top 5 rows\n",
      "\n"
     ]
    }
   ],
   "source": [
    "df.select(df.group.cast('int')).show(5)"
   ]
  },
  {
   "cell_type": "markdown",
   "metadata": {},
   "source": [
    "- Convert the n column to a integer data type and view the results. What happens?"
   ]
  },
  {
   "cell_type": "code",
   "execution_count": 29,
   "metadata": {},
   "outputs": [
    {
     "name": "stdout",
     "output_type": "stream",
     "text": [
      "+---+\n",
      "|  n|\n",
      "+---+\n",
      "|  1|\n",
      "|  0|\n",
      "|  0|\n",
      "|  0|\n",
      "| -1|\n",
      "+---+\n",
      "only showing top 5 rows\n",
      "\n"
     ]
    }
   ],
   "source": [
    "df.select(df.n.cast('int')).show(5)"
   ]
  },
  {
   "cell_type": "markdown",
   "metadata": {},
   "source": [
    "- Convert the abool column to a string data type and view the results. What happens?"
   ]
  },
  {
   "cell_type": "code",
   "execution_count": 32,
   "metadata": {},
   "outputs": [
    {
     "name": "stdout",
     "output_type": "stream",
     "text": [
      "+-----+\n",
      "|abool|\n",
      "+-----+\n",
      "| true|\n",
      "| true|\n",
      "| true|\n",
      "|false|\n",
      "|false|\n",
      "+-----+\n",
      "only showing top 5 rows\n",
      "\n"
     ]
    }
   ],
   "source": [
    "df.select(df.abool.cast('string')).show(5)"
   ]
  },
  {
   "cell_type": "markdown",
   "metadata": {},
   "source": [
    "# 4. Built-in Functions\n",
    "\n",
    "\n"
   ]
  },
  {
   "cell_type": "markdown",
   "metadata": {},
   "source": [
    "- Use the starter code above to re-create a spark dataframe.\n"
   ]
  },
  {
   "cell_type": "code",
   "execution_count": 33,
   "metadata": {},
   "outputs": [
    {
     "data": {
      "text/plain": [
       "DataFrame[n: double, group: string, abool: boolean]"
      ]
     },
     "execution_count": 33,
     "metadata": {},
     "output_type": "execute_result"
    }
   ],
   "source": [
    "# Convert to spark df\n",
    "df = spark.createDataFrame(pandas_dataframe)\n",
    "df"
   ]
  },
  {
   "cell_type": "markdown",
   "metadata": {},
   "source": [
    "- Import the necessary functions from pyspark.sql.functions\n"
   ]
  },
  {
   "cell_type": "code",
   "execution_count": 35,
   "metadata": {},
   "outputs": [],
   "source": [
    "from pyspark.sql.functions import min, avg"
   ]
  },
  {
   "cell_type": "markdown",
   "metadata": {},
   "source": [
    "- Find the lowest n value.\n"
   ]
  },
  {
   "cell_type": "code",
   "execution_count": 36,
   "metadata": {},
   "outputs": [
    {
     "name": "stdout",
     "output_type": "stream",
     "text": [
      "+-------------------+\n",
      "|             min(n)|\n",
      "+-------------------+\n",
      "|-1.8972435812262745|\n",
      "+-------------------+\n",
      "\n"
     ]
    }
   ],
   "source": [
    "df.select(min(df.n)).show()"
   ]
  },
  {
   "cell_type": "markdown",
   "metadata": {},
   "source": [
    "- Find the average n value.\n"
   ]
  },
  {
   "cell_type": "code",
   "execution_count": 37,
   "metadata": {},
   "outputs": [
    {
     "name": "stdout",
     "output_type": "stream",
     "text": [
      "+-------------------+\n",
      "|             avg(n)|\n",
      "+-------------------+\n",
      "|0.20397131332666066|\n",
      "+-------------------+\n",
      "\n"
     ]
    }
   ],
   "source": [
    "df.select(avg(df.n)).show()"
   ]
  },
  {
   "cell_type": "markdown",
   "metadata": {},
   "source": [
    "- Use concat to change the group column to say, e.g. \"Group: x\" or \"Group: y\"\n"
   ]
  },
  {
   "cell_type": "code",
   "execution_count": null,
   "metadata": {},
   "outputs": [],
   "source": []
  },
  {
   "cell_type": "markdown",
   "metadata": {},
   "source": [
    "- Use concat to combine the n and group columns to produce results that look like this: \"x: -1.432\" or \"z: 2.352\""
   ]
  },
  {
   "cell_type": "code",
   "execution_count": null,
   "metadata": {},
   "outputs": [],
   "source": []
  },
  {
   "cell_type": "markdown",
   "metadata": {},
   "source": [
    "# 5. When / Otherwise\n",
    "\n"
   ]
  },
  {
   "cell_type": "markdown",
   "metadata": {},
   "source": [
    "- Use the starter code above to re-create a spark dataframe.\n"
   ]
  },
  {
   "cell_type": "code",
   "execution_count": 45,
   "metadata": {},
   "outputs": [
    {
     "data": {
      "text/plain": [
       "DataFrame[n: double, group: string, abool: boolean]"
      ]
     },
     "execution_count": 45,
     "metadata": {},
     "output_type": "execute_result"
    }
   ],
   "source": [
    "# Convert to spark df\n",
    "df = spark.createDataFrame(pandas_dataframe)\n",
    "df"
   ]
  },
  {
   "cell_type": "markdown",
   "metadata": {},
   "source": [
    "- Use when and .otherwise to create a column that contains the text \"It is true\" when abool is true and \"It is false\"\" when abool is false.\n"
   ]
  },
  {
   "cell_type": "code",
   "execution_count": null,
   "metadata": {},
   "outputs": [],
   "source": []
  },
  {
   "cell_type": "markdown",
   "metadata": {},
   "source": [
    "- Create a column that contains 0 if n is less than 0, otherwise, the original n value."
   ]
  },
  {
   "cell_type": "code",
   "execution_count": null,
   "metadata": {},
   "outputs": [],
   "source": []
  },
  {
   "cell_type": "markdown",
   "metadata": {},
   "source": [
    "# 6. Filter / Where\n",
    "\n"
   ]
  },
  {
   "cell_type": "markdown",
   "metadata": {},
   "source": [
    "- Use the starter code above to re-create a spark dataframe.\n"
   ]
  },
  {
   "cell_type": "code",
   "execution_count": 46,
   "metadata": {},
   "outputs": [
    {
     "data": {
      "text/plain": [
       "DataFrame[n: double, group: string, abool: boolean]"
      ]
     },
     "execution_count": 46,
     "metadata": {},
     "output_type": "execute_result"
    }
   ],
   "source": [
    "# Convert to spark df\n",
    "df = spark.createDataFrame(pandas_dataframe)\n",
    "df"
   ]
  },
  {
   "cell_type": "markdown",
   "metadata": {},
   "source": [
    "- Use .filter or .where to select just the rows where the group is y and view the results.\n"
   ]
  },
  {
   "cell_type": "code",
   "execution_count": 47,
   "metadata": {},
   "outputs": [
    {
     "name": "stdout",
     "output_type": "stream",
     "text": [
      "+-------------------+-----+-----+\n",
      "|                  n|group|abool|\n",
      "+-------------------+-----+-----+\n",
      "|  1.015775022143998|    y|false|\n",
      "|0.19026375388090394|    y|false|\n",
      "| 0.5159689364229127|    y| true|\n",
      "|-1.8972435812262745|    y|false|\n",
      "|0.25219007240610014|    y| true|\n",
      "+-------------------+-----+-----+\n",
      "\n"
     ]
    }
   ],
   "source": [
    "df.where(df.group == 'y').show()"
   ]
  },
  {
   "cell_type": "markdown",
   "metadata": {},
   "source": [
    "- Select just the columns where the abool column is false and view the results.\n"
   ]
  },
  {
   "cell_type": "code",
   "execution_count": 49,
   "metadata": {},
   "outputs": [
    {
     "name": "stdout",
     "output_type": "stream",
     "text": [
      "+--------------------+-----+-----+\n",
      "|                   n|group|abool|\n",
      "+--------------------+-----+-----+\n",
      "|  0.8882019733433619|    z|false|\n",
      "|  -1.169069067649961|    z|false|\n",
      "|  0.8459734375126867|    x|false|\n",
      "|   1.015775022143998|    y|false|\n",
      "|-0.45237042146743756|    z|false|\n",
      "| 0.19026375388090394|    y|false|\n",
      "| -0.6561199024691382|    z|false|\n",
      "|-0.01549872937432...|    z|false|\n",
      "| -1.8972435812262745|    y|false|\n",
      "|  0.7061194117092414|    z|false|\n",
      "|  0.5701261019922602|    z|false|\n",
      "+--------------------+-----+-----+\n",
      "\n"
     ]
    }
   ],
   "source": [
    "df.where(df.abool == 'false').show()"
   ]
  },
  {
   "cell_type": "markdown",
   "metadata": {},
   "source": [
    "- Find the columns where the group column is not y.\n"
   ]
  },
  {
   "cell_type": "code",
   "execution_count": 50,
   "metadata": {},
   "outputs": [
    {
     "name": "stdout",
     "output_type": "stream",
     "text": [
      "+--------------------+-----+-----+\n",
      "|                   n|group|abool|\n",
      "+--------------------+-----+-----+\n",
      "|  1.1499623128303655|    z| true|\n",
      "| -0.0927155526559836|    x| true|\n",
      "|   0.399785412647996|    z| true|\n",
      "|  0.8882019733433619|    z|false|\n",
      "|  -1.169069067649961|    z|false|\n",
      "|  0.8459734375126867|    x|false|\n",
      "|-0.26405863529794266|    x| true|\n",
      "|-0.45237042146743756|    z|false|\n",
      "|  0.4930684447601118|    x| true|\n",
      "| -0.6561199024691382|    z|false|\n",
      "|  2.3637562686807967|    x| true|\n",
      "|-0.01549872937432...|    z|false|\n",
      "|  0.7061194117092414|    z|false|\n",
      "| -0.7646889916564636|    x| true|\n",
      "|  0.5701261019922602|    z|false|\n",
      "+--------------------+-----+-----+\n",
      "\n"
     ]
    }
   ],
   "source": [
    "df.where(df.group != 'y').show()"
   ]
  },
  {
   "cell_type": "markdown",
   "metadata": {},
   "source": [
    "- Find the columns where n is positive.\n"
   ]
  },
  {
   "cell_type": "code",
   "execution_count": 54,
   "metadata": {},
   "outputs": [
    {
     "name": "stdout",
     "output_type": "stream",
     "text": [
      "+---+-----+-----+\n",
      "|  n|group|abool|\n",
      "+---+-----+-----+\n",
      "+---+-----+-----+\n",
      "\n"
     ]
    }
   ],
   "source": [
    "df.where(df.n % 2 == 0).show()"
   ]
  },
  {
   "cell_type": "markdown",
   "metadata": {},
   "source": [
    "- Find the columns where abool is true and the group column is z.\n"
   ]
  },
  {
   "cell_type": "code",
   "execution_count": 55,
   "metadata": {},
   "outputs": [
    {
     "name": "stdout",
     "output_type": "stream",
     "text": [
      "+------------------+-----+-----+\n",
      "|                 n|group|abool|\n",
      "+------------------+-----+-----+\n",
      "|1.1499623128303655|    z| true|\n",
      "| 0.399785412647996|    z| true|\n",
      "+------------------+-----+-----+\n",
      "\n"
     ]
    }
   ],
   "source": [
    "df.where(df.abool == 'true').where(df.group == 'z').show()"
   ]
  },
  {
   "cell_type": "markdown",
   "metadata": {},
   "source": [
    "- Find the columns where abool is true or the group column is z.\n"
   ]
  },
  {
   "cell_type": "code",
   "execution_count": 56,
   "metadata": {},
   "outputs": [
    {
     "name": "stdout",
     "output_type": "stream",
     "text": [
      "+------------------+-----+-----+\n",
      "|                 n|group|abool|\n",
      "+------------------+-----+-----+\n",
      "|1.1499623128303655|    z| true|\n",
      "| 0.399785412647996|    z| true|\n",
      "+------------------+-----+-----+\n",
      "\n"
     ]
    }
   ],
   "source": [
    "df.where(df.abool == 'true').where(df.group == 'z').show()"
   ]
  },
  {
   "cell_type": "markdown",
   "metadata": {},
   "source": [
    "- Find the columns where abool is false and n is less than 1\n"
   ]
  },
  {
   "cell_type": "code",
   "execution_count": 57,
   "metadata": {},
   "outputs": [
    {
     "name": "stdout",
     "output_type": "stream",
     "text": [
      "+--------------------+-----+-----+\n",
      "|                   n|group|abool|\n",
      "+--------------------+-----+-----+\n",
      "|  0.8882019733433619|    z|false|\n",
      "|  -1.169069067649961|    z|false|\n",
      "|  0.8459734375126867|    x|false|\n",
      "|-0.45237042146743756|    z|false|\n",
      "| 0.19026375388090394|    y|false|\n",
      "| -0.6561199024691382|    z|false|\n",
      "|-0.01549872937432...|    z|false|\n",
      "| -1.8972435812262745|    y|false|\n",
      "|  0.7061194117092414|    z|false|\n",
      "|  0.5701261019922602|    z|false|\n",
      "+--------------------+-----+-----+\n",
      "\n"
     ]
    }
   ],
   "source": [
    "df.where(df.abool == 'false').where(df.n < 1).show()"
   ]
  },
  {
   "cell_type": "markdown",
   "metadata": {},
   "source": [
    "# 7. Sorting\n",
    "\n"
   ]
  },
  {
   "cell_type": "markdown",
   "metadata": {},
   "source": [
    "- Use the starter code above to re-create a spark dataframe.\n"
   ]
  },
  {
   "cell_type": "code",
   "execution_count": 58,
   "metadata": {},
   "outputs": [
    {
     "data": {
      "text/plain": [
       "DataFrame[n: double, group: string, abool: boolean]"
      ]
     },
     "execution_count": 58,
     "metadata": {},
     "output_type": "execute_result"
    }
   ],
   "source": [
    "# Convert to spark df\n",
    "df = spark.createDataFrame(pandas_dataframe)\n",
    "df"
   ]
  },
  {
   "cell_type": "markdown",
   "metadata": {},
   "source": [
    "- Sort by the n value.\n"
   ]
  },
  {
   "cell_type": "code",
   "execution_count": 59,
   "metadata": {},
   "outputs": [
    {
     "name": "stdout",
     "output_type": "stream",
     "text": [
      "+--------------------+-----+-----+\n",
      "|                   n|group|abool|\n",
      "+--------------------+-----+-----+\n",
      "| -1.8972435812262745|    y|false|\n",
      "|  -1.169069067649961|    z|false|\n",
      "| -0.7646889916564636|    x| true|\n",
      "| -0.6561199024691382|    z|false|\n",
      "|-0.45237042146743756|    z|false|\n",
      "|-0.26405863529794266|    x| true|\n",
      "| -0.0927155526559836|    x| true|\n",
      "|-0.01549872937432...|    z|false|\n",
      "| 0.19026375388090394|    y|false|\n",
      "| 0.25219007240610014|    y| true|\n",
      "|   0.399785412647996|    z| true|\n",
      "|  0.4930684447601118|    x| true|\n",
      "|  0.5159689364229127|    y| true|\n",
      "|  0.5701261019922602|    z|false|\n",
      "|  0.7061194117092414|    z|false|\n",
      "|  0.8459734375126867|    x|false|\n",
      "|  0.8882019733433619|    z|false|\n",
      "|   1.015775022143998|    y|false|\n",
      "|  1.1499623128303655|    z| true|\n",
      "|  2.3637562686807967|    x| true|\n",
      "+--------------------+-----+-----+\n",
      "\n"
     ]
    }
   ],
   "source": [
    "df.sort(df.n).show()"
   ]
  },
  {
   "cell_type": "markdown",
   "metadata": {},
   "source": [
    "- Sort by the group value, both ascending and descending.\n"
   ]
  },
  {
   "cell_type": "code",
   "execution_count": 60,
   "metadata": {},
   "outputs": [
    {
     "name": "stdout",
     "output_type": "stream",
     "text": [
      "+--------------------+-----+-----+\n",
      "|                   n|group|abool|\n",
      "+--------------------+-----+-----+\n",
      "| -0.7646889916564636|    x| true|\n",
      "|  0.4930684447601118|    x| true|\n",
      "|  2.3637562686807967|    x| true|\n",
      "|-0.26405863529794266|    x| true|\n",
      "|  0.8459734375126867|    x|false|\n",
      "| -0.0927155526559836|    x| true|\n",
      "|   1.015775022143998|    y|false|\n",
      "| 0.25219007240610014|    y| true|\n",
      "| 0.19026375388090394|    y|false|\n",
      "|  0.5159689364229127|    y| true|\n",
      "| -1.8972435812262745|    y|false|\n",
      "|-0.45237042146743756|    z|false|\n",
      "|   0.399785412647996|    z| true|\n",
      "|  0.8882019733433619|    z|false|\n",
      "|  0.7061194117092414|    z|false|\n",
      "|  0.5701261019922602|    z|false|\n",
      "| -0.6561199024691382|    z|false|\n",
      "|-0.01549872937432...|    z|false|\n",
      "|  -1.169069067649961|    z|false|\n",
      "|  1.1499623128303655|    z| true|\n",
      "+--------------------+-----+-----+\n",
      "\n"
     ]
    }
   ],
   "source": [
    "df.sort(df.group).show()"
   ]
  },
  {
   "cell_type": "code",
   "execution_count": 62,
   "metadata": {},
   "outputs": [
    {
     "name": "stdout",
     "output_type": "stream",
     "text": [
      "+--------------------+-----+-----+\n",
      "|                   n|group|abool|\n",
      "+--------------------+-----+-----+\n",
      "|-0.45237042146743756|    z|false|\n",
      "|   0.399785412647996|    z| true|\n",
      "|  0.8882019733433619|    z|false|\n",
      "|-0.01549872937432...|    z|false|\n",
      "|  1.1499623128303655|    z| true|\n",
      "| -0.6561199024691382|    z|false|\n",
      "|  -1.169069067649961|    z|false|\n",
      "|  0.7061194117092414|    z|false|\n",
      "|  0.5701261019922602|    z|false|\n",
      "|   1.015775022143998|    y|false|\n",
      "|  0.5159689364229127|    y| true|\n",
      "| 0.19026375388090394|    y|false|\n",
      "| 0.25219007240610014|    y| true|\n",
      "| -1.8972435812262745|    y|false|\n",
      "|  0.8459734375126867|    x|false|\n",
      "|  2.3637562686807967|    x| true|\n",
      "|  0.4930684447601118|    x| true|\n",
      "| -0.7646889916564636|    x| true|\n",
      "|-0.26405863529794266|    x| true|\n",
      "| -0.0927155526559836|    x| true|\n",
      "+--------------------+-----+-----+\n",
      "\n"
     ]
    }
   ],
   "source": [
    "df.sort(desc('group')).show()"
   ]
  },
  {
   "cell_type": "markdown",
   "metadata": {},
   "source": [
    "- Sort by the group value first, then, within each group, sort by n value.\n"
   ]
  },
  {
   "cell_type": "code",
   "execution_count": 63,
   "metadata": {},
   "outputs": [
    {
     "name": "stdout",
     "output_type": "stream",
     "text": [
      "+--------------------+-----+-----+\n",
      "|                   n|group|abool|\n",
      "+--------------------+-----+-----+\n",
      "| -0.7646889916564636|    x| true|\n",
      "|-0.26405863529794266|    x| true|\n",
      "| -0.0927155526559836|    x| true|\n",
      "|  0.4930684447601118|    x| true|\n",
      "|  0.8459734375126867|    x|false|\n",
      "|  2.3637562686807967|    x| true|\n",
      "| -1.8972435812262745|    y|false|\n",
      "| 0.19026375388090394|    y|false|\n",
      "| 0.25219007240610014|    y| true|\n",
      "|  0.5159689364229127|    y| true|\n",
      "|   1.015775022143998|    y|false|\n",
      "|  -1.169069067649961|    z|false|\n",
      "| -0.6561199024691382|    z|false|\n",
      "|-0.45237042146743756|    z|false|\n",
      "|-0.01549872937432...|    z|false|\n",
      "|   0.399785412647996|    z| true|\n",
      "|  0.5701261019922602|    z|false|\n",
      "|  0.7061194117092414|    z|false|\n",
      "|  0.8882019733433619|    z|false|\n",
      "|  1.1499623128303655|    z| true|\n",
      "+--------------------+-----+-----+\n",
      "\n"
     ]
    }
   ],
   "source": [
    "df.sort(asc('group'), asc('n')).show()"
   ]
  },
  {
   "cell_type": "markdown",
   "metadata": {},
   "source": [
    "- Sort by abool, group, and n. Does it matter in what order you specify the columns when sorting?"
   ]
  },
  {
   "cell_type": "code",
   "execution_count": 64,
   "metadata": {},
   "outputs": [
    {
     "name": "stdout",
     "output_type": "stream",
     "text": [
      "+--------------------+-----+-----+\n",
      "|                   n|group|abool|\n",
      "+--------------------+-----+-----+\n",
      "|  0.8459734375126867|    x|false|\n",
      "| -1.8972435812262745|    y|false|\n",
      "| 0.19026375388090394|    y|false|\n",
      "|   1.015775022143998|    y|false|\n",
      "|  -1.169069067649961|    z|false|\n",
      "| -0.6561199024691382|    z|false|\n",
      "|-0.45237042146743756|    z|false|\n",
      "|-0.01549872937432...|    z|false|\n",
      "|  0.5701261019922602|    z|false|\n",
      "|  0.7061194117092414|    z|false|\n",
      "|  0.8882019733433619|    z|false|\n",
      "| -0.7646889916564636|    x| true|\n",
      "|-0.26405863529794266|    x| true|\n",
      "| -0.0927155526559836|    x| true|\n",
      "|  0.4930684447601118|    x| true|\n",
      "|  2.3637562686807967|    x| true|\n",
      "| 0.25219007240610014|    y| true|\n",
      "|  0.5159689364229127|    y| true|\n",
      "|   0.399785412647996|    z| true|\n",
      "|  1.1499623128303655|    z| true|\n",
      "+--------------------+-----+-----+\n",
      "\n"
     ]
    }
   ],
   "source": [
    "df.sort(asc('abool'), asc('group'), asc('n')).show()"
   ]
  },
  {
   "cell_type": "code",
   "execution_count": null,
   "metadata": {},
   "outputs": [],
   "source": []
  }
 ],
 "metadata": {
  "kernelspec": {
   "display_name": "Python 3",
   "language": "python",
   "name": "python3"
  },
  "language_info": {
   "codemirror_mode": {
    "name": "ipython",
    "version": 3
   },
   "file_extension": ".py",
   "mimetype": "text/x-python",
   "name": "python",
   "nbconvert_exporter": "python",
   "pygments_lexer": "ipython3",
   "version": "3.8.5"
  }
 },
 "nbformat": 4,
 "nbformat_minor": 4
}
