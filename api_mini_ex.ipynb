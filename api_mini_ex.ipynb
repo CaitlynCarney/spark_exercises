{
 "cells": [
  {
   "cell_type": "code",
   "execution_count": 1,
   "metadata": {},
   "outputs": [],
   "source": [
    "import pyspark\n",
    "\n",
    "spark = pyspark.sql.SparkSession.builder.getOrCreate()\n",
    "\n",
    "import pandas as pd\n",
    "import numpy as np"
   ]
  },
  {
   "cell_type": "markdown",
   "metadata": {},
   "source": [
    "# 1. Spark Dataframe Basics"
   ]
  },
  {
   "cell_type": "markdown",
   "metadata": {},
   "source": [
    "- Use the starter code above to create a pandas dataframe."
   ]
  },
  {
   "cell_type": "code",
   "execution_count": 16,
   "metadata": {},
   "outputs": [],
   "source": [
    "pandas_dataframe = pd.DataFrame({\n",
    "    \"n\": np.random.randn(20),\n",
    "    \"group\": np.random.choice(list(\"xyz\"), 20),\n",
    "    \"abool\": np.random.choice([True, False], 20),\n",
    "})"
   ]
  },
  {
   "cell_type": "markdown",
   "metadata": {},
   "source": [
    "- Convert the pandas dataframe to a spark dataframe. From this pointforward, do all of your work with the spark dataframe, not the pandas dataframe.\n"
   ]
  },
  {
   "cell_type": "code",
   "execution_count": 17,
   "metadata": {},
   "outputs": [
    {
     "data": {
      "text/plain": [
       "DataFrame[n: double, group: string, abool: boolean]"
      ]
     },
     "execution_count": 17,
     "metadata": {},
     "output_type": "execute_result"
    }
   ],
   "source": [
    "df = spark.createDataFrame(pandas_dataframe)\n",
    "df"
   ]
  },
  {
   "cell_type": "markdown",
   "metadata": {},
   "source": [
    "- Show the first 3 rows of the dataframe.\n"
   ]
  },
  {
   "cell_type": "code",
   "execution_count": 18,
   "metadata": {},
   "outputs": [
    {
     "name": "stdout",
     "output_type": "stream",
     "text": [
      "+--------------------+-----+-----+\n",
      "|                   n|group|abool|\n",
      "+--------------------+-----+-----+\n",
      "|0.059580016413558756|    y| true|\n",
      "|-0.14438333575280743|    y| true|\n",
      "| 0.18820665047642599|    z|false|\n",
      "+--------------------+-----+-----+\n",
      "only showing top 3 rows\n",
      "\n"
     ]
    }
   ],
   "source": [
    "df.show(3)"
   ]
  },
  {
   "cell_type": "markdown",
   "metadata": {},
   "source": [
    "- Show the first 7 rows of the dataframe.\n"
   ]
  },
  {
   "cell_type": "code",
   "execution_count": 19,
   "metadata": {},
   "outputs": [
    {
     "name": "stdout",
     "output_type": "stream",
     "text": [
      "+--------------------+-----+-----+\n",
      "|                   n|group|abool|\n",
      "+--------------------+-----+-----+\n",
      "|0.059580016413558756|    y| true|\n",
      "|-0.14438333575280743|    y| true|\n",
      "| 0.18820665047642599|    z|false|\n",
      "| -0.5387728122665513|    x| true|\n",
      "| -0.6283104660402473|    z| true|\n",
      "|  -1.952541184161492|    z|false|\n",
      "| -0.2768465919168419|    x| true|\n",
      "+--------------------+-----+-----+\n",
      "only showing top 7 rows\n",
      "\n"
     ]
    }
   ],
   "source": [
    "df.show(7)"
   ]
  },
  {
   "cell_type": "markdown",
   "metadata": {},
   "source": [
    "- View a summary of the data using `.describe`.\n"
   ]
  },
  {
   "cell_type": "code",
   "execution_count": 20,
   "metadata": {},
   "outputs": [
    {
     "name": "stdout",
     "output_type": "stream",
     "text": [
      "+-------+--------------------+-----+\n",
      "|summary|                   n|group|\n",
      "+-------+--------------------+-----+\n",
      "|  count|                  20|   20|\n",
      "|   mean|-0.19246628406661304| null|\n",
      "| stddev|  0.7614096200861946| null|\n",
      "|    min|  -1.952541184161492|    x|\n",
      "|    max|  0.9483800040154895|    z|\n",
      "+-------+--------------------+-----+\n",
      "\n"
     ]
    }
   ],
   "source": [
    "df.describe().show()"
   ]
  },
  {
   "cell_type": "markdown",
   "metadata": {},
   "source": [
    "- Use `.select` to create a new dataframe with just the `n` and `abool` columns. View the first 5 rows of this dataframe.\n"
   ]
  },
  {
   "cell_type": "code",
   "execution_count": 10,
   "metadata": {},
   "outputs": [
    {
     "name": "stdout",
     "output_type": "stream",
     "text": [
      "+--------------------+-----+\n",
      "|                   n|abool|\n",
      "+--------------------+-----+\n",
      "|  -1.748121098440469| true|\n",
      "|  1.0489007446291436| true|\n",
      "|   0.811213950663023|false|\n",
      "|-0.44691940582022804|false|\n",
      "|  -0.788282387030002|false|\n",
      "|  1.1628909587577554| true|\n",
      "| -0.1517425396227504| true|\n",
      "|-0.18643580066904522| true|\n",
      "| -1.5655970614940897| true|\n",
      "| 0.24636122484049086|false|\n",
      "|-0.03791876197241527| true|\n",
      "| -0.1715863514186417|false|\n",
      "| -0.7898457720264014| true|\n",
      "|  1.2958479228264501|false|\n",
      "|  1.0317108674974154|false|\n",
      "|  1.4122890969159267|false|\n",
      "|  1.2762895942230839| true|\n",
      "|-0.24769852665924638| true|\n",
      "|  0.5381738010235696| true|\n",
      "|  1.1380773290966901|false|\n",
      "+--------------------+-----+\n",
      "\n"
     ]
    }
   ],
   "source": [
    "df.select('n', 'abool').show()"
   ]
  },
  {
   "cell_type": "markdown",
   "metadata": {},
   "source": [
    "- Use `.select` to create a new dataframe with just the `group` and `abool`columns. View the first 5 rows of this dataframe.\n"
   ]
  },
  {
   "cell_type": "code",
   "execution_count": 11,
   "metadata": {},
   "outputs": [
    {
     "name": "stdout",
     "output_type": "stream",
     "text": [
      "+-----+-----+\n",
      "|group|abool|\n",
      "+-----+-----+\n",
      "|    x| true|\n",
      "|    z| true|\n",
      "|    y|false|\n",
      "|    x|false|\n",
      "|    x|false|\n",
      "|    y| true|\n",
      "|    z| true|\n",
      "|    y| true|\n",
      "|    z| true|\n",
      "|    z|false|\n",
      "|    y| true|\n",
      "|    z|false|\n",
      "|    y| true|\n",
      "|    x|false|\n",
      "|    y|false|\n",
      "|    y|false|\n",
      "|    y| true|\n",
      "|    x| true|\n",
      "|    z| true|\n",
      "|    x|false|\n",
      "+-----+-----+\n",
      "\n"
     ]
    }
   ],
   "source": [
    "df.select('group', 'abool').show()"
   ]
  },
  {
   "cell_type": "markdown",
   "metadata": {},
   "source": [
    "- Use `.select` to create a new dataframe with the `group` `abool` column renamed to `a_boolean_value`. Show the first 3 rows ofthis dataframe."
   ]
  },
  {
   "cell_type": "code",
   "execution_count": 12,
   "metadata": {},
   "outputs": [
    {
     "name": "stdout",
     "output_type": "stream",
     "text": [
      "+-----+---------------+\n",
      "|group|a_boolean_value|\n",
      "+-----+---------------+\n",
      "|    x|           true|\n",
      "|    z|           true|\n",
      "|    y|          false|\n",
      "+-----+---------------+\n",
      "only showing top 3 rows\n",
      "\n"
     ]
    }
   ],
   "source": [
    "df.select(df.group, df.abool.alias('a_boolean_value')).show(3)"
   ]
  },
  {
   "cell_type": "markdown",
   "metadata": {},
   "source": [
    "- Use `.select` to create a new dataframe with the `group` column and the `n` column renamed to `a_numeric_value`. Show the first 6 rows of this dataframe."
   ]
  },
  {
   "cell_type": "code",
   "execution_count": 13,
   "metadata": {},
   "outputs": [
    {
     "name": "stdout",
     "output_type": "stream",
     "text": [
      "+-----+--------------------+\n",
      "|group|     a_numeric_value|\n",
      "+-----+--------------------+\n",
      "|    x|  -1.748121098440469|\n",
      "|    z|  1.0489007446291436|\n",
      "|    y|   0.811213950663023|\n",
      "|    x|-0.44691940582022804|\n",
      "|    x|  -0.788282387030002|\n",
      "|    y|  1.1628909587577554|\n",
      "+-----+--------------------+\n",
      "only showing top 6 rows\n",
      "\n"
     ]
    }
   ],
   "source": [
    "df.select(df.group, df.n.alias('a_numeric_value')).show(6)"
   ]
  },
  {
   "cell_type": "markdown",
   "metadata": {},
   "source": [
    "# 2. Column Manipulation"
   ]
  },
  {
   "cell_type": "markdown",
   "metadata": {},
   "source": [
    "- Use the starter code above to re-create a spark dataframe. Store the\n",
    "       spark dataframe in a varaible named `df`\n",
    "\n"
   ]
  },
  {
   "cell_type": "code",
   "execution_count": 15,
   "metadata": {},
   "outputs": [
    {
     "data": {
      "text/plain": [
       "DataFrame[n: double, group: string, abool: boolean]"
      ]
     },
     "execution_count": 15,
     "metadata": {},
     "output_type": "execute_result"
    }
   ],
   "source": [
    "# Convert to spark df\n",
    "df = spark.createDataFrame(pandas_dataframe)\n",
    "df"
   ]
  },
  {
   "cell_type": "markdown",
   "metadata": {},
   "source": [
    "- Use `.select` to add 4 to the `n` column. Show the results.\n"
   ]
  },
  {
   "cell_type": "code",
   "execution_count": 21,
   "metadata": {},
   "outputs": [
    {
     "name": "stdout",
     "output_type": "stream",
     "text": [
      "+------------------+\n",
      "|           (n + 4)|\n",
      "+------------------+\n",
      "| 4.059580016413559|\n",
      "|3.8556166642471927|\n",
      "| 4.188206650476426|\n",
      "| 3.461227187733449|\n",
      "| 3.371689533959753|\n",
      "| 2.047458815838508|\n",
      "|3.7231534080831583|\n",
      "| 3.937423292049018|\n",
      "|3.0672328406908793|\n",
      "|  3.69941749752288|\n",
      "| 4.517416392596189|\n",
      "|3.2773769716385415|\n",
      "|4.9483800040154895|\n",
      "| 4.547046012793122|\n",
      "|3.7076076490084384|\n",
      "|2.3899428114706813|\n",
      "| 4.849316118563628|\n",
      "|3.5029498898563394|\n",
      "|4.6079108764117445|\n",
      "| 4.391721685298742|\n",
      "+------------------+\n",
      "\n"
     ]
    }
   ],
   "source": [
    "df.select(df.n + 4).show()"
   ]
  },
  {
   "cell_type": "markdown",
   "metadata": {},
   "source": [
    "- Subtract 5 from the `n` column and view the results.\n"
   ]
  },
  {
   "cell_type": "code",
   "execution_count": 22,
   "metadata": {},
   "outputs": [
    {
     "name": "stdout",
     "output_type": "stream",
     "text": [
      "+-------------------+\n",
      "|            (n - 5)|\n",
      "+-------------------+\n",
      "| -4.940419983586441|\n",
      "| -5.144383335752807|\n",
      "| -4.811793349523574|\n",
      "| -5.538772812266552|\n",
      "| -5.628310466040247|\n",
      "|-6.9525411841614915|\n",
      "| -5.276846591916842|\n",
      "| -5.062576707950981|\n",
      "| -5.932767159309121|\n",
      "|  -5.30058250247712|\n",
      "| -4.482583607403811|\n",
      "|-5.7226230283614585|\n",
      "|-4.0516199959845105|\n",
      "| -4.452953987206878|\n",
      "| -5.292392350991562|\n",
      "| -6.610057188529319|\n",
      "| -4.150683881436372|\n",
      "| -5.497050110143661|\n",
      "|-4.3920891235882555|\n",
      "| -4.608278314701258|\n",
      "+-------------------+\n",
      "\n"
     ]
    }
   ],
   "source": [
    "df.select(df.n - 5).show()"
   ]
  },
  {
   "cell_type": "markdown",
   "metadata": {},
   "source": [
    "- Multiply the `n` column by 2. View the results along with the original numbers.\n"
   ]
  },
  {
   "cell_type": "code",
   "execution_count": 23,
   "metadata": {},
   "outputs": [
    {
     "name": "stdout",
     "output_type": "stream",
     "text": [
      "+--------------------+\n",
      "|             (n * 2)|\n",
      "+--------------------+\n",
      "| 0.11916003282711751|\n",
      "|-0.28876667150561486|\n",
      "| 0.37641330095285197|\n",
      "| -1.0775456245331025|\n",
      "| -1.2566209320804946|\n",
      "|  -3.905082368322984|\n",
      "| -0.5536931838336838|\n",
      "| -0.1251534159019633|\n",
      "| -1.8655343186182418|\n",
      "| -0.6011650049542393|\n",
      "|  1.0348327851923784|\n",
      "| -1.4452460567229166|\n",
      "|   1.896760008030979|\n",
      "|  1.0940920255862447|\n",
      "| -0.5847847019831229|\n",
      "| -3.2201143770586373|\n",
      "|   1.698632237127256|\n",
      "| -0.9941002202873216|\n",
      "|  1.2158217528234887|\n",
      "|  0.7834433705974827|\n",
      "+--------------------+\n",
      "\n"
     ]
    }
   ],
   "source": [
    "df.select(df.n * 2).show()"
   ]
  },
  {
   "cell_type": "markdown",
   "metadata": {},
   "source": [
    "- Add a new column named `n2` that is the `n` value multiplied by -1. Show the first 4 rows of your dataframe. You should see the original `n` value as well as `n2`.\n"
   ]
  },
  {
   "cell_type": "code",
   "execution_count": 26,
   "metadata": {},
   "outputs": [
    {
     "name": "stdout",
     "output_type": "stream",
     "text": [
      "+--------------------+-----+-----+--------------------+\n",
      "|                   n|group|abool|                  n2|\n",
      "+--------------------+-----+-----+--------------------+\n",
      "|0.059580016413558756|    y| true|-0.05958001641355...|\n",
      "|-0.14438333575280743|    y| true| 0.14438333575280743|\n",
      "| 0.18820665047642599|    z|false|-0.18820665047642599|\n",
      "| -0.5387728122665513|    x| true|  0.5387728122665513|\n",
      "| -0.6283104660402473|    z| true|  0.6283104660402473|\n",
      "|  -1.952541184161492|    z|false|   1.952541184161492|\n",
      "| -0.2768465919168419|    x| true|  0.2768465919168419|\n",
      "|-0.06257670795098165|    x| true| 0.06257670795098165|\n",
      "| -0.9327671593091209|    x|false|  0.9327671593091209|\n",
      "|-0.30058250247711965|    y| true| 0.30058250247711965|\n",
      "|  0.5174163925961892|    x| true| -0.5174163925961892|\n",
      "| -0.7226230283614583|    z|false|  0.7226230283614583|\n",
      "|  0.9483800040154895|    y| true| -0.9483800040154895|\n",
      "|  0.5470460127931224|    x| true| -0.5470460127931224|\n",
      "|-0.29239235099156147|    x|false| 0.29239235099156147|\n",
      "| -1.6100571885293187|    y|false|  1.6100571885293187|\n",
      "|   0.849316118563628|    y| true|  -0.849316118563628|\n",
      "| -0.4970501101436608|    x|false|  0.4970501101436608|\n",
      "|  0.6079108764117443|    z|false| -0.6079108764117443|\n",
      "| 0.39172168529874135|    y| true|-0.39172168529874135|\n",
      "+--------------------+-----+-----+--------------------+\n",
      "\n"
     ]
    }
   ],
   "source": [
    "n2 = (df.n * -1).alias('n2')\n",
    "df = df.select('*', n2)\n",
    "df.show()"
   ]
  },
  {
   "cell_type": "markdown",
   "metadata": {},
   "source": [
    "- Add a new column named `n3` that is the n value squared. Show the first 5 rows of your dataframe. You should see both `n`, `n2`, and `n3`.\n"
   ]
  },
  {
   "cell_type": "code",
   "execution_count": 27,
   "metadata": {},
   "outputs": [
    {
     "name": "stdout",
     "output_type": "stream",
     "text": [
      "+--------------------+-----+-----+--------------------+--------------------+\n",
      "|                   n|group|abool|                  n2|                  n3|\n",
      "+--------------------+-----+-----+--------------------+--------------------+\n",
      "|0.059580016413558756|    y| true|-0.05958001641355...|0.003549778355839931|\n",
      "|-0.14438333575280743|    y| true| 0.14438333575280743| 0.02084654764310792|\n",
      "| 0.18820665047642599|    z|false|-0.18820665047642599| 0.03542174328355558|\n",
      "| -0.5387728122665513|    x| true|  0.5387728122665513|  0.2902761432376085|\n",
      "| -0.6283104660402473|    z| true|  0.6283104660402473|  0.3947740417357128|\n",
      "|  -1.952541184161492|    z|false|   1.952541184161492|  3.8124170758467613|\n",
      "| -0.2768465919168419|    x| true|  0.2768465919168419|  0.0766440354559704|\n",
      "|-0.06257670795098165|    x| true| 0.06257670795098165| 0.00391584437798245|\n",
      "| -0.9327671593091209|    x|false|  0.9327671593091209|   0.870054573485607|\n",
      "|-0.30058250247711965|    y| true| 0.30058250247711965| 0.09034984079540764|\n",
      "|  0.5174163925961892|    x| true| -0.5174163925961892|  0.2677197233272538|\n",
      "| -0.7226230283614583|    z|false|  0.7226230283614583|   0.522184041118285|\n",
      "|  0.9483800040154895|    y| true| -0.9483800040154895|  0.8994246320164199|\n",
      "|  0.5470460127931224|    x| true| -0.5470460127931224|   0.299259340112853|\n",
      "|-0.29239235099156147|    x|false| 0.29239235099156147| 0.08549328691837248|\n",
      "| -1.6100571885293187|    y|false|  1.6100571885293187|   2.592284150334934|\n",
      "|   0.849316118563628|    y| true|  -0.849316118563628|  0.7213378692519866|\n",
      "| -0.4970501101436608|    x|false|  0.4970501101436608| 0.24705881199382532|\n",
      "|  0.6079108764117443|    z|false| -0.6079108764117443|  0.3695556336596951|\n",
      "| 0.39172168529874135|    y| true|-0.39172168529874135| 0.15344587873328616|\n",
      "+--------------------+-----+-----+--------------------+--------------------+\n",
      "\n"
     ]
    }
   ],
   "source": [
    "n3 = (df.n ** 2).alias('n3')\n",
    "df = df.select('*', n3)\n",
    "df.show()"
   ]
  },
  {
   "cell_type": "markdown",
   "metadata": {},
   "source": [
    "- What happens when you run the code below?\n",
    "        ```python\n",
    "        df.group + df.abool\n",
    "        ```\n"
   ]
  },
  {
   "cell_type": "code",
   "execution_count": 28,
   "metadata": {},
   "outputs": [
    {
     "data": {
      "text/plain": [
       "Column<'(group + abool)'>"
      ]
     },
     "execution_count": 28,
     "metadata": {},
     "output_type": "execute_result"
    }
   ],
   "source": [
    "df.group + df.abool"
   ]
  },
  {
   "cell_type": "markdown",
   "metadata": {},
   "source": [
    "- What happens when you run the code below? What is the difference between this and the previous code sample?\n",
    "        ```python\n",
    "        df.select(df.group + df.abool)\n",
    "        ```\n"
   ]
  },
  {
   "cell_type": "code",
   "execution_count": 29,
   "metadata": {},
   "outputs": [
    {
     "ename": "AnalysisException",
     "evalue": "cannot resolve '(CAST(`group` AS DOUBLE) + `abool`)' due to data type mismatch: differing types in '(CAST(`group` AS DOUBLE) + `abool`)' (double and boolean).;\n'Project [(cast(group#312 as double) + abool#313) AS (group + abool)#574]\n+- Project [n#311, group#312, abool#313, n2#525, POWER(n#311, cast(2 as double)) AS n3#547]\n   +- Project [n#311, group#312, abool#313, (n#311 * cast(-1 as double)) AS n2#525]\n      +- LogicalRDD [n#311, group#312, abool#313], false\n",
     "output_type": "error",
     "traceback": [
      "\u001b[0;31m--------------------\u001b[0m",
      "\u001b[0;31mAnalysisException\u001b[0mTraceback (most recent call last)",
      "\u001b[0;32m<ipython-input-29-392aef8ccead>\u001b[0m in \u001b[0;36m<module>\u001b[0;34m\u001b[0m\n\u001b[0;32m----> 1\u001b[0;31m \u001b[0mdf\u001b[0m\u001b[0;34m.\u001b[0m\u001b[0mselect\u001b[0m\u001b[0;34m(\u001b[0m\u001b[0mdf\u001b[0m\u001b[0;34m.\u001b[0m\u001b[0mgroup\u001b[0m \u001b[0;34m+\u001b[0m \u001b[0mdf\u001b[0m\u001b[0;34m.\u001b[0m\u001b[0mabool\u001b[0m\u001b[0;34m)\u001b[0m\u001b[0;34m\u001b[0m\u001b[0;34m\u001b[0m\u001b[0m\n\u001b[0m",
      "\u001b[0;32m/usr/local/anaconda3/lib/python3.8/site-packages/pyspark/sql/dataframe.py\u001b[0m in \u001b[0;36mselect\u001b[0;34m(self, *cols)\u001b[0m\n\u001b[1;32m   1667\u001b[0m         \u001b[0;34m[\u001b[0m\u001b[0mRow\u001b[0m\u001b[0;34m(\u001b[0m\u001b[0mname\u001b[0m\u001b[0;34m=\u001b[0m\u001b[0;34m'Alice'\u001b[0m\u001b[0;34m,\u001b[0m \u001b[0mage\u001b[0m\u001b[0;34m=\u001b[0m\u001b[0;36m12\u001b[0m\u001b[0;34m)\u001b[0m\u001b[0;34m,\u001b[0m \u001b[0mRow\u001b[0m\u001b[0;34m(\u001b[0m\u001b[0mname\u001b[0m\u001b[0;34m=\u001b[0m\u001b[0;34m'Bob'\u001b[0m\u001b[0;34m,\u001b[0m \u001b[0mage\u001b[0m\u001b[0;34m=\u001b[0m\u001b[0;36m15\u001b[0m\u001b[0;34m)\u001b[0m\u001b[0;34m]\u001b[0m\u001b[0;34m\u001b[0m\u001b[0;34m\u001b[0m\u001b[0m\n\u001b[1;32m   1668\u001b[0m         \"\"\"\n\u001b[0;32m-> 1669\u001b[0;31m         \u001b[0mjdf\u001b[0m \u001b[0;34m=\u001b[0m \u001b[0mself\u001b[0m\u001b[0;34m.\u001b[0m\u001b[0m_jdf\u001b[0m\u001b[0;34m.\u001b[0m\u001b[0mselect\u001b[0m\u001b[0;34m(\u001b[0m\u001b[0mself\u001b[0m\u001b[0;34m.\u001b[0m\u001b[0m_jcols\u001b[0m\u001b[0;34m(\u001b[0m\u001b[0;34m*\u001b[0m\u001b[0mcols\u001b[0m\u001b[0;34m)\u001b[0m\u001b[0;34m)\u001b[0m\u001b[0;34m\u001b[0m\u001b[0;34m\u001b[0m\u001b[0m\n\u001b[0m\u001b[1;32m   1670\u001b[0m         \u001b[0;32mreturn\u001b[0m \u001b[0mDataFrame\u001b[0m\u001b[0;34m(\u001b[0m\u001b[0mjdf\u001b[0m\u001b[0;34m,\u001b[0m \u001b[0mself\u001b[0m\u001b[0;34m.\u001b[0m\u001b[0msql_ctx\u001b[0m\u001b[0;34m)\u001b[0m\u001b[0;34m\u001b[0m\u001b[0;34m\u001b[0m\u001b[0m\n\u001b[1;32m   1671\u001b[0m \u001b[0;34m\u001b[0m\u001b[0m\n",
      "\u001b[0;32m/usr/local/anaconda3/lib/python3.8/site-packages/py4j/java_gateway.py\u001b[0m in \u001b[0;36m__call__\u001b[0;34m(self, *args)\u001b[0m\n\u001b[1;32m   1302\u001b[0m \u001b[0;34m\u001b[0m\u001b[0m\n\u001b[1;32m   1303\u001b[0m         \u001b[0manswer\u001b[0m \u001b[0;34m=\u001b[0m \u001b[0mself\u001b[0m\u001b[0;34m.\u001b[0m\u001b[0mgateway_client\u001b[0m\u001b[0;34m.\u001b[0m\u001b[0msend_command\u001b[0m\u001b[0;34m(\u001b[0m\u001b[0mcommand\u001b[0m\u001b[0;34m)\u001b[0m\u001b[0;34m\u001b[0m\u001b[0;34m\u001b[0m\u001b[0m\n\u001b[0;32m-> 1304\u001b[0;31m         return_value = get_return_value(\n\u001b[0m\u001b[1;32m   1305\u001b[0m             answer, self.gateway_client, self.target_id, self.name)\n\u001b[1;32m   1306\u001b[0m \u001b[0;34m\u001b[0m\u001b[0m\n",
      "\u001b[0;32m/usr/local/anaconda3/lib/python3.8/site-packages/pyspark/sql/utils.py\u001b[0m in \u001b[0;36mdeco\u001b[0;34m(*a, **kw)\u001b[0m\n\u001b[1;32m    115\u001b[0m                 \u001b[0;31m# Hide where the exception came from that shows a non-Pythonic\u001b[0m\u001b[0;34m\u001b[0m\u001b[0;34m\u001b[0m\u001b[0;34m\u001b[0m\u001b[0m\n\u001b[1;32m    116\u001b[0m                 \u001b[0;31m# JVM exception message.\u001b[0m\u001b[0;34m\u001b[0m\u001b[0;34m\u001b[0m\u001b[0;34m\u001b[0m\u001b[0m\n\u001b[0;32m--> 117\u001b[0;31m                 \u001b[0;32mraise\u001b[0m \u001b[0mconverted\u001b[0m \u001b[0;32mfrom\u001b[0m \u001b[0;32mNone\u001b[0m\u001b[0;34m\u001b[0m\u001b[0;34m\u001b[0m\u001b[0m\n\u001b[0m\u001b[1;32m    118\u001b[0m             \u001b[0;32melse\u001b[0m\u001b[0;34m:\u001b[0m\u001b[0;34m\u001b[0m\u001b[0;34m\u001b[0m\u001b[0m\n\u001b[1;32m    119\u001b[0m                 \u001b[0;32mraise\u001b[0m\u001b[0;34m\u001b[0m\u001b[0;34m\u001b[0m\u001b[0m\n",
      "\u001b[0;31mAnalysisException\u001b[0m: cannot resolve '(CAST(`group` AS DOUBLE) + `abool`)' due to data type mismatch: differing types in '(CAST(`group` AS DOUBLE) + `abool`)' (double and boolean).;\n'Project [(cast(group#312 as double) + abool#313) AS (group + abool)#574]\n+- Project [n#311, group#312, abool#313, n2#525, POWER(n#311, cast(2 as double)) AS n3#547]\n   +- Project [n#311, group#312, abool#313, (n#311 * cast(-1 as double)) AS n2#525]\n      +- LogicalRDD [n#311, group#312, abool#313], false\n"
     ]
    }
   ],
   "source": [
    "df.select(df.group + df.abool)"
   ]
  },
  {
   "cell_type": "markdown",
   "metadata": {},
   "source": [
    "- Try adding various other columns together. What are the results of combining the different data types?"
   ]
  },
  {
   "cell_type": "code",
   "execution_count": null,
   "metadata": {},
   "outputs": [],
   "source": []
  }
 ],
 "metadata": {
  "kernelspec": {
   "display_name": "Python 3",
   "language": "python",
   "name": "python3"
  },
  "language_info": {
   "codemirror_mode": {
    "name": "ipython",
    "version": 3
   },
   "file_extension": ".py",
   "mimetype": "text/x-python",
   "name": "python",
   "nbconvert_exporter": "python",
   "pygments_lexer": "ipython3",
   "version": "3.8.5"
  }
 },
 "nbformat": 4,
 "nbformat_minor": 4
}
